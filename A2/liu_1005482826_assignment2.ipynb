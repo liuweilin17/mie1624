{
 "cells": [
  {
   "cell_type": "markdown",
   "metadata": {},
   "source": [
    "## Assignment2"
   ]
  },
  {
   "cell_type": "code",
   "execution_count": 1,
   "metadata": {},
   "outputs": [
    {
     "name": "stderr",
     "output_type": "stream",
     "text": [
      "[nltk_data] Downloading package stopwords to\n",
      "[nltk_data]     /Users/liuweilin/nltk_data...\n",
      "[nltk_data]   Package stopwords is already up-to-date!\n"
     ]
    }
   ],
   "source": [
    "import collections\n",
    "import time\n",
    "import pandas as pd\n",
    "import numpy as np\n",
    "import re\n",
    "import html\n",
    "import nltk\n",
    "nltk.download(\"stopwords\")\n",
    "from nltk.corpus import stopwords\n",
    "from nltk.tokenize import RegexpTokenizer, TweetTokenizer\n",
    "from nltk.stem import PorterStemmer\n",
    "\n",
    "from sklearn.model_selection import train_test_split, GridSearchCV\n",
    "from sklearn.feature_extraction.text import CountVectorizer\n",
    "from sklearn.feature_extraction.text import TfidfVectorizer\n",
    "\n",
    "from sklearn.linear_model import LogisticRegression\n",
    "from sklearn.neighbors import KNeighborsClassifier\n",
    "from sklearn.naive_bayes import GaussianNB\n",
    "from sklearn.svm import LinearSVC\n",
    "from sklearn.tree import DecisionTreeClassifier\n",
    "from sklearn.ensemble import RandomForestClassifier, AdaBoostClassifier\n",
    "from sklearn.decomposition import TruncatedSVD, PCA, IncrementalPCA\n",
    "from sklearn.metrics import classification_report\n",
    "\n",
    "import seaborn as sns\n",
    "from wordcloud import WordCloud\n",
    "import matplotlib.pyplot as plt\n",
    "%matplotlib inline"
   ]
  },
  {
   "cell_type": "markdown",
   "metadata": {},
   "source": [
    "### 0. Load Data"
   ]
  },
  {
   "cell_type": "code",
   "execution_count": 2,
   "metadata": {},
   "outputs": [],
   "source": [
    "twitter_file = 'Sentiment.csv'\n",
    "election_file = 'Canadian_elections_2019.csv'\n",
    "twitter_df = pd.read_csv(twitter_file, dtype={'text':'str'})\n",
    "election_df = pd.read_csv(election_file, dtype={'text':'str', 'negative_reason':'str'})"
   ]
  },
  {
   "cell_type": "code",
   "execution_count": 3,
   "metadata": {},
   "outputs": [
    {
     "name": "stdout",
     "output_type": "stream",
     "text": [
      "twitter data shape:  (133811, 2)\n"
     ]
    },
    {
     "data": {
      "text/html": [
       "<div>\n",
       "<style scoped>\n",
       "    .dataframe tbody tr th:only-of-type {\n",
       "        vertical-align: middle;\n",
       "    }\n",
       "\n",
       "    .dataframe tbody tr th {\n",
       "        vertical-align: top;\n",
       "    }\n",
       "\n",
       "    .dataframe thead th {\n",
       "        text-align: right;\n",
       "    }\n",
       "</style>\n",
       "<table border=\"1\" class=\"dataframe\">\n",
       "  <thead>\n",
       "    <tr style=\"text-align: right;\">\n",
       "      <th></th>\n",
       "      <th>sentiment</th>\n",
       "      <th>text</th>\n",
       "    </tr>\n",
       "  </thead>\n",
       "  <tbody>\n",
       "    <tr>\n",
       "      <td>0</td>\n",
       "      <td>Positive</td>\n",
       "      <td>RT @Diplomtc_Immnty: @realDonaldTrump They tri...</td>\n",
       "    </tr>\n",
       "    <tr>\n",
       "      <td>1</td>\n",
       "      <td>Negative</td>\n",
       "      <td>@chiefy74 Damn i'm jealous, i wanna watch the ...</td>\n",
       "    </tr>\n",
       "    <tr>\n",
       "      <td>2</td>\n",
       "      <td>Positive</td>\n",
       "      <td>I'm listening The Beatles now. They're great</td>\n",
       "    </tr>\n",
       "    <tr>\n",
       "      <td>3</td>\n",
       "      <td>Positive</td>\n",
       "      <td>@ddlovato could i please get a shout out or an...</td>\n",
       "    </tr>\n",
       "    <tr>\n",
       "      <td>4</td>\n",
       "      <td>Positive</td>\n",
       "      <td>@salspizza just spotted ur message there Tony ...</td>\n",
       "    </tr>\n",
       "  </tbody>\n",
       "</table>\n",
       "</div>"
      ],
      "text/plain": [
       "  sentiment                                               text\n",
       "0  Positive  RT @Diplomtc_Immnty: @realDonaldTrump They tri...\n",
       "1  Negative  @chiefy74 Damn i'm jealous, i wanna watch the ...\n",
       "2  Positive      I'm listening The Beatles now. They're great \n",
       "3  Positive  @ddlovato could i please get a shout out or an...\n",
       "4  Positive  @salspizza just spotted ur message there Tony ..."
      ]
     },
     "execution_count": 3,
     "metadata": {},
     "output_type": "execute_result"
    }
   ],
   "source": [
    "print('twitter data shape: ', twitter_df.shape)\n",
    "twitter_df.head()"
   ]
  },
  {
   "cell_type": "code",
   "execution_count": 4,
   "metadata": {},
   "outputs": [
    {
     "name": "stdout",
     "output_type": "stream",
     "text": [
      "Canadian elections data shape:  (2133, 3)\n"
     ]
    },
    {
     "data": {
      "text/html": [
       "<div>\n",
       "<style scoped>\n",
       "    .dataframe tbody tr th:only-of-type {\n",
       "        vertical-align: middle;\n",
       "    }\n",
       "\n",
       "    .dataframe tbody tr th {\n",
       "        vertical-align: top;\n",
       "    }\n",
       "\n",
       "    .dataframe thead th {\n",
       "        text-align: right;\n",
       "    }\n",
       "</style>\n",
       "<table border=\"1\" class=\"dataframe\">\n",
       "  <thead>\n",
       "    <tr style=\"text-align: right;\">\n",
       "      <th></th>\n",
       "      <th>sentiment</th>\n",
       "      <th>negative_reason</th>\n",
       "      <th>text</th>\n",
       "    </tr>\n",
       "  </thead>\n",
       "  <tbody>\n",
       "    <tr>\n",
       "      <td>0</td>\n",
       "      <td>Negative</td>\n",
       "      <td>Women Reproductive right and Racism</td>\n",
       "      <td>b\"@RosieBarton So instead of your suggestion, ...</td>\n",
       "    </tr>\n",
       "    <tr>\n",
       "      <td>1</td>\n",
       "      <td>Positive</td>\n",
       "      <td>NaN</td>\n",
       "      <td>b\"#AllWomanSpacewalk it's real!\\n@Space_Statio...</td>\n",
       "    </tr>\n",
       "    <tr>\n",
       "      <td>2</td>\n",
       "      <td>Negative</td>\n",
       "      <td>Economy</td>\n",
       "      <td>b\"#Brantford It's going to cost YOU $94 BILLIO...</td>\n",
       "    </tr>\n",
       "    <tr>\n",
       "      <td>3</td>\n",
       "      <td>Positive</td>\n",
       "      <td>NaN</td>\n",
       "      <td>b\"#Canada #CanadaElection2019 #CanadaVotes \\n#...</td>\n",
       "    </tr>\n",
       "    <tr>\n",
       "      <td>4</td>\n",
       "      <td>Negative</td>\n",
       "      <td>Economy</td>\n",
       "      <td>b\"#Canada #taxpayers are sick &amp;amp; tired of h...</td>\n",
       "    </tr>\n",
       "  </tbody>\n",
       "</table>\n",
       "</div>"
      ],
      "text/plain": [
       "  sentiment                      negative_reason  \\\n",
       "0  Negative  Women Reproductive right and Racism   \n",
       "1  Positive                                  NaN   \n",
       "2  Negative                              Economy   \n",
       "3  Positive                                  NaN   \n",
       "4  Negative                              Economy   \n",
       "\n",
       "                                                text  \n",
       "0  b\"@RosieBarton So instead of your suggestion, ...  \n",
       "1  b\"#AllWomanSpacewalk it's real!\\n@Space_Statio...  \n",
       "2  b\"#Brantford It's going to cost YOU $94 BILLIO...  \n",
       "3  b\"#Canada #CanadaElection2019 #CanadaVotes \\n#...  \n",
       "4  b\"#Canada #taxpayers are sick &amp; tired of h...  "
      ]
     },
     "execution_count": 4,
     "metadata": {},
     "output_type": "execute_result"
    }
   ],
   "source": [
    "print('Canadian elections data shape: ', election_df.shape)\n",
    "election_df.head()"
   ]
  },
  {
   "cell_type": "markdown",
   "metadata": {},
   "source": [
    "### 1. Data Cleaning"
   ]
  },
  {
   "cell_type": "code",
   "execution_count": 5,
   "metadata": {},
   "outputs": [
    {
     "name": "stdout",
     "output_type": "stream",
     "text": [
      "twitter data shape:  (130655, 2)\n",
      "Canadian elections data shape:  (2133, 3)\n"
     ]
    }
   ],
   "source": [
    "# drop rows with null sentiment or null text\n",
    "twitter_df.dropna(subset=['sentiment', 'text'], inplace=True)\n",
    "twitter_df = twitter_df[twitter_df['sentiment'] != 'Neutral']\n",
    "print('twitter data shape: ', twitter_df.shape)\n",
    "election_df.dropna(subset=['sentiment', 'text'], inplace=True)\n",
    "print('Canadian elections data shape: ', election_df.shape)"
   ]
  },
  {
   "cell_type": "code",
   "execution_count": 12,
   "metadata": {},
   "outputs": [
    {
     "name": "stdout",
     "output_type": "stream",
     "text": [
      "ff ff ff ff90 ff1\n",
      "['ff90']\n",
      "False\n"
     ]
    }
   ],
   "source": [
    "hashtags = []\n",
    "html_tag_reg = re.compile(r'<[^>]+>')\n",
    "url_reg = re.compile(r'https?://?\\S+')\n",
    "# tokenizer = TweetTokenizer()\n",
    "tokenizer = RegexpTokenizer(r'[@#]?\\w+') # keep @ and #hashtag\n",
    "# tokenizer = RegexpTokenizer(r'[#]?\\w+') # keep #hashtag\n",
    "stemmer = PorterStemmer()\n",
    "\n",
    "def clean(raw):\n",
    "    # remove html tags and attributes\n",
    "    try:\n",
    "        raw = html_tag_reg.sub('', raw)\n",
    "\n",
    "        # replace html character codes with an ASCII equivalent\n",
    "        # for example, &pound is replaced with £\n",
    "        raw = html.unescape(raw)\n",
    "\n",
    "        # remove Urls\n",
    "        raw = url_reg.sub('', raw)\n",
    "\n",
    "        # lowercase\n",
    "        raw = raw.lower()\n",
    "\n",
    "        # tokenize and remove stop words, stop words come from NLTK corpus\n",
    "        words = tokenizer.tokenize(raw)\n",
    "        # extract hashtags\n",
    "        hashtag_arr = [word.strip('#') for word in words if re.match('^#', word)]\n",
    "        # extract mentions\n",
    "        mention_arr = [word.strip('@') for word in words if re.match('^@', word)]\n",
    "        hashtags.append(' '.join(hashtag_arr))\n",
    "        # remove characters matching [^a-zA-Z0-9_]\n",
    "        # words = [re.sub('\\W+', '', word) for word in words]\n",
    "        # choose characters containing only alphabets\n",
    "        words = [word for word in words if not re.search('\\W+', word)]\n",
    "        # remove stop words\n",
    "        words_rmStop = [word.strip() for word in words if word not in stopwords.words('english')]\n",
    "        # stem\n",
    "        words_rmStop = [stemmer.stem(word) for word in words_rmStop]\n",
    "        return ' '.join(words_rmStop + hashtag_arr + mention_arr)\n",
    "    except Exception as e:\n",
    "        print('error: ', e)\n",
    "        print(raw)\n",
    "        return ' '\n",
    "print(clean(\"ff^^ #ff90 @ff1 ff, ff.\"))\n",
    "print(hashtags)\n",
    "re.sub('\\W+', '', \"@few.\")\n",
    "print(not re.search('[^a-z]+', \"ff33\"))"
   ]
  },
  {
   "cell_type": "code",
   "execution_count": 13,
   "metadata": {},
   "outputs": [
    {
     "name": "stdout",
     "output_type": "stream",
     "text": [
      "twitter clean done\n",
      "twitter data shape:  (130655, 2)\n",
      "twitter hashtags size:  130655\n",
      "clean twitter data shape:  (130655, 3)\n"
     ]
    }
   ],
   "source": [
    "hashtags = []\n",
    "twitter_df['text'] = twitter_df['text'].apply(clean)\n",
    "print('twitter clean done')\n",
    "print('twitter data shape: ', twitter_df.shape)\n",
    "print('twitter hashtags size: ', len(hashtags))\n",
    "twitter_df['hashtag'] = hashtags\n",
    "print('clean twitter data shape: ', twitter_df.shape)"
   ]
  },
  {
   "cell_type": "code",
   "execution_count": 14,
   "metadata": {},
   "outputs": [
    {
     "name": "stdout",
     "output_type": "stream",
     "text": [
      "election clean done\n",
      "election data shape:  (2133, 3)\n",
      "election hashtags size:  2133\n",
      "clean election data shape:  (2133, 4)\n"
     ]
    }
   ],
   "source": [
    "hashtags = []\n",
    "election_df['text'] = election_df['text'].apply(clean)\n",
    "print('election clean done')\n",
    "print('election data shape: ', election_df.shape)\n",
    "print('election hashtags size: ', len(hashtags))\n",
    "election_df['hashtag'] = hashtags\n",
    "print('clean election data shape: ', election_df.shape)"
   ]
  },
  {
   "cell_type": "code",
   "execution_count": 15,
   "metadata": {},
   "outputs": [
    {
     "name": "stdout",
     "output_type": "stream",
     "text": [
      "['Positive' 'Negative']\n",
      "['Negative' 'Positive']\n",
      "[ 1 -1]\n",
      "[-1  1]\n"
     ]
    }
   ],
   "source": [
    "# format sentiment\n",
    "sentiment_dt = {\n",
    "    'Negative': -1,\n",
    "    # 'Neutral': 0,\n",
    "    'Positive': 1\n",
    "}\n",
    "print(twitter_df['sentiment'].unique())\n",
    "print(election_df['sentiment'].unique())\n",
    "twitter_df['sentiment'] = twitter_df['sentiment'].apply(lambda x:sentiment_dt[x])\n",
    "election_df['sentiment'] = election_df['sentiment'].apply(lambda x:sentiment_dt[x])\n",
    "print(twitter_df['sentiment'].unique())\n",
    "print(election_df['sentiment'].unique())"
   ]
  },
  {
   "cell_type": "code",
   "execution_count": 16,
   "metadata": {},
   "outputs": [],
   "source": [
    "twitter_df.to_csv('twitter.csv', index = False)\n",
    "election_df.to_csv('election.csv', index = False)"
   ]
  },
  {
   "cell_type": "code",
   "execution_count": 1,
   "metadata": {},
   "outputs": [
    {
     "name": "stderr",
     "output_type": "stream",
     "text": [
      "[nltk_data] Downloading package stopwords to\n",
      "[nltk_data]     /Users/liuweilin/nltk_data...\n",
      "[nltk_data]   Package stopwords is already up-to-date!\n"
     ]
    }
   ],
   "source": [
    "import collections\n",
    "import time\n",
    "import pandas as pd\n",
    "import numpy as np\n",
    "import re\n",
    "import html\n",
    "import nltk\n",
    "nltk.download(\"stopwords\")\n",
    "from nltk.corpus import stopwords\n",
    "from nltk.tokenize import RegexpTokenizer, TweetTokenizer\n",
    "from nltk.stem import PorterStemmer\n",
    "\n",
    "from sklearn.model_selection import train_test_split, GridSearchCV\n",
    "from sklearn.feature_extraction.text import CountVectorizer\n",
    "from sklearn.feature_extraction.text import TfidfVectorizer\n",
    "\n",
    "from sklearn.linear_model import LogisticRegression\n",
    "from sklearn.neighbors import KNeighborsClassifier\n",
    "from sklearn.naive_bayes import GaussianNB\n",
    "from sklearn.svm import LinearSVC\n",
    "from sklearn.tree import DecisionTreeClassifier\n",
    "from sklearn.ensemble import RandomForestClassifier, AdaBoostClassifier\n",
    "from sklearn.decomposition import TruncatedSVD, PCA, IncrementalPCA\n",
    "from sklearn.metrics import classification_report\n",
    "\n",
    "import seaborn as sns\n",
    "from wordcloud import WordCloud\n",
    "import matplotlib.pyplot as plt\n",
    "%matplotlib inline\n",
    "\n",
    "twitter_df = pd.read_csv('twitter.csv')\n",
    "twitter_df.hashtag = twitter_df.hashtag.fillna('')\n",
    "twitter_df.text = twitter_df.text.fillna('')\n",
    "# print(twitter_df['sentiment'].unique())\n",
    "election_df = pd.read_csv('election.csv')\n",
    "election_df.hashtag = election_df.hashtag.fillna('')\n",
    "election_df.text = election_df.text.fillna('')\n",
    "# print(election_df['sentiment'].unique())"
   ]
  },
  {
   "cell_type": "markdown",
   "metadata": {},
   "source": [
    "### 2. Exploratory analysis"
   ]
  },
  {
   "cell_type": "markdown",
   "metadata": {},
   "source": [
    "#### 2.1 Polical parties\n",
    "Determine the political party(Liberal, Conservative, NDP, None) in the tweets in the 2019 Canadian elections datasets"
   ]
  },
  {
   "cell_type": "code",
   "execution_count": 2,
   "metadata": {},
   "outputs": [],
   "source": [
    "stemmer = PorterStemmer()\n",
    "party_dict = {\n",
    "    stemmer.stem('NDP'): 'NDP',\n",
    "    stemmer.stem('Conservative'): 'Conservative',\n",
    "    stemmer.stem('Liberal'): 'Liberal', \n",
    "}\n",
    "\n",
    "def identify_party(words):\n",
    "    party = \"None\"\n",
    "    for word in words.split(' '):\n",
    "        root = stemmer.stem(word)\n",
    "        if root in party_dict:\n",
    "            party = party_dict[root]\n",
    "            break\n",
    "    parties.append(party)"
   ]
  },
  {
   "cell_type": "code",
   "execution_count": 3,
   "metadata": {},
   "outputs": [],
   "source": [
    "parties = []\n",
    "election_df['text'].apply(identify_party)\n",
    "election_df['party'] = parties"
   ]
  },
  {
   "cell_type": "code",
   "execution_count": 4,
   "metadata": {},
   "outputs": [
    {
     "data": {
      "image/png": "[encoded data removed]",
      "text/plain": [
       "<Figure size 1440x576 with 2 Axes>"
      ]
     },
     "metadata": {
      "needs_background": "light"
     },
     "output_type": "display_data"
    }
   ],
   "source": [
    "parties = ['Conservative', 'Liberal', 'NOP', 'None']\n",
    "fig, axes = plt.subplots(1,2,figsize=(20,8))\n",
    "# frequecies of parties mentioned\n",
    "sns.set(style=\"darkgrid\")\n",
    "sns.countplot(x='party', label=parties, data=election_df, ax=axes[0]).set_title('Frequencies of parties')\n",
    "# average sentiment of parties\n",
    "sns.boxplot(x=election_df['party'], \n",
    "            y=election_df['sentiment'].astype('float'), \n",
    "            ax=axes[1], \n",
    "            # color='white',\n",
    "            showmeans=True, \n",
    "            meanline=True,\n",
    "            meanprops=dict(linestyle='--', linewidth=3, color='black')).set_title('Boxplot sentiment of each party')\n",
    "# ax = sns.boxplot(x=election_df[\"sentiment\"], showmeans=True)\n",
    "plt.show()"
   ]
  },
  {
   "cell_type": "markdown",
   "metadata": {},
   "source": [
    "We found the numbers of Conservative, Liberal and NDP are almost the same. While most most do not have a specific party mentioned in their twitter. In the same time, the NDP has the most positive twitter sentiment and Conservativ has the most negative twitter sentiment."
   ]
  },
  {
   "cell_type": "markdown",
   "metadata": {},
   "source": [
    "#### 2.2 Distributions of hashtags in Sentiment.csv"
   ]
  },
  {
   "cell_type": "code",
   "execution_count": 5,
   "metadata": {},
   "outputs": [
    {
     "name": "stdout",
     "output_type": "stream",
     "text": [
      "Number of hashtags:  2773\n"
     ]
    }
   ],
   "source": [
    "twitter_hashtag_count = collections.defaultdict(int)\n",
    "\n",
    "def word_freq(hashtags):\n",
    "    for h in hashtags.split(' '):\n",
    "        if len(h):\n",
    "            twitter_hashtag_count[h] += 1\n",
    "        \n",
    "twitter_df['hashtag'].apply(word_freq)\n",
    "print('Number of hashtags: ', len(twitter_hashtag_count.keys()))"
   ]
  },
  {
   "cell_type": "code",
   "execution_count": 6,
   "metadata": {},
   "outputs": [
    {
     "name": "stdout",
     "output_type": "stream",
     "text": [
      "['foxdebate', 'trump2016', 'blacklivesmatter', 'gopdâ', 'kkkorgop', 'f1', 'donaldtrump', 'â', 'fb', 'foxnews', 'tedcruz', 'gop', 'gopdebatâ', 'gopdebateâ', 'gâ', 'trump', 'tcot', 'asot400', 'gopdebates', 'gopdebate']\n"
     ]
    },
    {
     "data": {
      "image/png": "[encoded data removed]",
      "text/plain": [
       "<Figure size 1440x720 with 2 Axes>"
      ]
     },
     "metadata": {},
     "output_type": "display_data"
    }
   ],
   "source": [
    "plt.rc('xtick', labelsize=15)\n",
    "plt.rc('ytick', labelsize=15)\n",
    "fig, axes = plt.subplots(1,2,figsize=(20,10))\n",
    "# bar plot of top mentioned hashtags\n",
    "top = 20\n",
    "hashtags_sorted = sorted(twitter_hashtag_count.keys(), key=lambda x:twitter_hashtag_count[x], reverse=True)[:top][::-1]\n",
    "axes[0].barh(hashtags_sorted, [twitter_hashtag_count[x] for x in hashtags_sorted])\n",
    "axes[0].set_xlabel('Frequencies')\n",
    "axes[0].set_ylabel('Hashtags')\n",
    "print(hashtags_sorted)\n",
    "# word cloud\n",
    "wcloud = WordCloud(background_color='white',\n",
    "                   stopwords=[],\n",
    "                   max_words=100,\n",
    "                   max_font_size=40,\n",
    "                   random_state=42,\n",
    "                   collocations=False,\n",
    "                  ).generate(' '.join(twitter_df['hashtag'].values))\n",
    "axes[1].imshow(wcloud)\n",
    "axes[1].axis('off')\n",
    "plt.show()"
   ]
  },
  {
   "cell_type": "markdown",
   "metadata": {},
   "source": [
    "We found twitters in Sentiment.csv are closely related to gopdebate, which stands for GOP debate in United States."
   ]
  },
  {
   "cell_type": "markdown",
   "metadata": {},
   "source": [
    "#### 2.3 Distributions of words in negative_reason in 2019 Canadian election tweets"
   ]
  },
  {
   "cell_type": "code",
   "execution_count": 7,
   "metadata": {},
   "outputs": [
    {
     "name": "stdout",
     "output_type": "stream",
     "text": [
      "11\n",
      "Women Reproductive right and Racism\n",
      "nan\n",
      "Economy\n",
      "Others\n",
      "Scandal\n",
      "Tell lies\n",
      "Privilege\n",
      "Climate Problem\n",
      "Healthcare\n",
      "Separation\n",
      "Healthcare and Marijuana\n"
     ]
    },
    {
     "data": {
      "image/png": "[encoded data removed]",
      "text/plain": [
       "<Figure size 1440x720 with 1 Axes>"
      ]
     },
     "metadata": {},
     "output_type": "display_data"
    }
   ],
   "source": [
    "print(len(election_df['negative_reason'].unique()))\n",
    "for reason in election_df['negative_reason'].unique():\n",
    "    print(reason)\n",
    "fig, ax = plt.subplots(figsize=(20,10))\n",
    "sns.set(style=\"darkgrid\")\n",
    "ax = sns.countplot(y='negative_reason', \n",
    "                   order=election_df['negative_reason'].value_counts().index, \n",
    "                   data=election_df)\n",
    "ax.set_title(\"Distribution of negative reasons\")\n",
    "plt.show()"
   ]
  },
  {
   "cell_type": "markdown",
   "metadata": {},
   "source": [
    "### 3. Model preparation"
   ]
  },
  {
   "cell_type": "code",
   "execution_count": 8,
   "metadata": {},
   "outputs": [
    {
     "name": "stdout",
     "output_type": "stream",
     "text": [
      "<class 'numpy.ndarray'> (91458, 2)\n",
      "<class 'numpy.ndarray'> (39197, 2)\n"
     ]
    }
   ],
   "source": [
    "columns = ['text', 'sentiment']\n",
    "twitter_train, twitter_test = train_test_split(twitter_df[columns].values, test_size=0.3, random_state=42)\n",
    "print(type(twitter_train), twitter_train.shape)\n",
    "print(type(twitter_test), twitter_test.shape)"
   ]
  },
  {
   "cell_type": "code",
   "execution_count": 9,
   "metadata": {},
   "outputs": [
    {
     "name": "stdout",
     "output_type": "stream",
     "text": [
      "(91458,)\n",
      "(91458,)\n",
      "(39197,)\n",
      "(39197,)\n"
     ]
    }
   ],
   "source": [
    "np.random.shuffle(twitter_train)\n",
    "twitter_train_X, twitter_train_y = twitter_train[:,[0]], twitter_train[:, [1]]\n",
    "twitter_train_X, twitter_train_y = twitter_train_X.flatten(), twitter_train_y.flatten().astype('int')\n",
    "print(twitter_train_X.shape)\n",
    "print(twitter_train_y.shape)\n",
    "\n",
    "twitter_test_X, twitter_test_y = twitter_test[:,[0]], twitter_test[:, [1]]\n",
    "twitter_test_X, twitter_test_y = twitter_test_X.flatten(), twitter_test_y.flatten().astype('int')\n",
    "print(twitter_test_X.shape)\n",
    "print(twitter_test_y.shape)"
   ]
  },
  {
   "cell_type": "markdown",
   "metadata": {},
   "source": [
    "**WF, Word Frequency as feature**"
   ]
  },
  {
   "cell_type": "code",
   "execution_count": 10,
   "metadata": {},
   "outputs": [
    {
     "name": "stdout",
     "output_type": "stream",
     "text": [
      "['actual', 'alreadi', 'alway', 'amaz', 'anoth', 'ask', 'away', 'awesom', 'back', 'bad', 'beauti', 'bed', 'best', 'better', 'big', 'bit', 'bore', 'call', 'candid', 'cant', 'check', 'cold', 'come', 'cool', 'could', 'damn', 'day', 'debat', 'done', 'dont', 'earli', 'eat', 'end', 'enjoy', 'even', 'ever', 'everyon', 'feel', 'final', 'find', 'finish', 'first', 'follow', 'fox', 'friend', 'fuck', 'fun', 'game', 'get', 'girl']\n",
      "(91458, 200)\n",
      "(39197, 200)\n"
     ]
    }
   ],
   "source": [
    "components = 100\n",
    "# pca = PCA(n_components=components, random_state=42)\n",
    "# pca = PCA(n_components=components)\n",
    "\n",
    "# vectorizer_wf = CountVectorizer(min_df=0.001, max_df=0.999)\n",
    "vectorizer_wf = CountVectorizer(max_features=200)\n",
    "twitter_train_X_WF = vectorizer_wf.fit_transform(twitter_train_X).toarray()\n",
    "# print(vectorizer_wf.vocabulary_)\n",
    "print(vectorizer_wf.get_feature_names()[:50])\n",
    "print(twitter_train_X_WF.shape)\n",
    "# twitter_train_X_WF = pca.fit_transform(twitter_train_X_WF)\n",
    "# print(twitter_train_X_WF.shape)\n",
    "\n",
    "twitter_test_X_WF = vectorizer_wf.transform(twitter_test_X).toarray()\n",
    "# twitter_test_X_WF = pca.fit_transform(twitter_test_X_WF)\n",
    "print(twitter_test_X_WF.shape)"
   ]
  },
  {
   "cell_type": "markdown",
   "metadata": {},
   "source": [
    "**TF-IDF, as feature**"
   ]
  },
  {
   "cell_type": "code",
   "execution_count": 11,
   "metadata": {},
   "outputs": [
    {
     "name": "stdout",
     "output_type": "stream",
     "text": [
      "(91458, 200)\n",
      "['actual', 'alreadi', 'alway', 'amaz', 'anoth', 'ask', 'away', 'awesom', 'back', 'bad', 'beauti', 'bed', 'best', 'better', 'big', 'bit', 'bore', 'call', 'candid', 'cant', 'check', 'cold', 'come', 'cool', 'could', 'damn', 'day', 'debat', 'done', 'dont', 'earli', 'eat', 'end', 'enjoy', 'even', 'ever', 'everyon', 'feel', 'final', 'find', 'finish', 'first', 'follow', 'fox', 'friend', 'fuck', 'fun', 'game', 'get', 'girl']\n",
      "(91458, 200)\n",
      "(39197, 200)\n"
     ]
    }
   ],
   "source": [
    "# vectorizer_tfidf = TfidfVectorizer(use_idf=True, smooth_idf=True, norm=None, min_df=0.001, max_df=0.999)\n",
    "vectorizer_tfidf = TfidfVectorizer(use_idf=True, smooth_idf=True, norm=None, max_features=200)\n",
    "twitter_train_X_TFIDF = vectorizer_tfidf.fit_transform(twitter_train_X).toarray()\n",
    "print(twitter_train_X_TFIDF.shape)\n",
    "# twitter_train_X_TFIDF = pca.fit_transform(twitter_train_X_TFIDF)\n",
    "# print(vectorizer_tfidf.vocabulary_)\n",
    "print(vectorizer_tfidf.get_feature_names()[:50])\n",
    "print(twitter_train_X_TFIDF.shape)\n",
    "\n",
    "twitter_test_X_TFIDF = vectorizer_tfidf.transform(twitter_test_X).toarray()\n",
    "# twitter_test_X_TFIDF = pca.fit_transform(twitter_test_X_TFIDF)\n",
    "print(twitter_test_X_TFIDF.shape)"
   ]
  },
  {
   "cell_type": "markdown",
   "metadata": {},
   "source": [
    "### 4. Model implementation\n",
    "We train and compare the following models with WF and TF-IDF as features repectively:\n",
    "* Logistic regression\n",
    "* K-nearest neighbor\n",
    "* Naive Bayes\n",
    "* Linear SVM\n",
    "* Decision Tree\n",
    "* Random Forest\n",
    "* Adaboost\n",
    "\n",
    "We then choose the best model and evaluate on the 2019 Canadian Election Dataset."
   ]
  },
  {
   "cell_type": "markdown",
   "metadata": {},
   "source": [
    "#### 4.1 Logistic regression"
   ]
  },
  {
   "cell_type": "code",
   "execution_count": 12,
   "metadata": {},
   "outputs": [
    {
     "name": "stdout",
     "output_type": "stream",
     "text": [
      "Best parameters set found on development set:\n",
      "{'C': 1, 'solver': 'sag'}\n",
      "Grid scores on development set:\n",
      "0.694 (+/-0.006) for {'C': 1, 'solver': 'sag'}\n",
      "0.694 (+/-0.006) for {'C': 1, 'solver': 'saga'}\n",
      "0.694 (+/-0.006) for {'C': 10, 'solver': 'sag'}\n",
      "0.694 (+/-0.006) for {'C': 10, 'solver': 'saga'}\n",
      "0.694 (+/-0.006) for {'C': 100, 'solver': 'sag'}\n",
      "0.694 (+/-0.006) for {'C': 100, 'solver': 'saga'}\n",
      "Detailed classification report on Test data:\n",
      "              precision    recall  f1-score   support\n",
      "\n",
      "          -1       0.73      0.70      0.71     21330\n",
      "           1       0.66      0.69      0.67     17867\n",
      "\n",
      "    accuracy                           0.69     39197\n",
      "   macro avg       0.69      0.69      0.69     39197\n",
      "weighted avg       0.70      0.69      0.69     39197\n",
      "\n",
      "---------------------------\n",
      "Best parameters set found on development set:\n",
      "{'C': 1, 'solver': 'sag'}\n",
      "Grid scores on development set:\n",
      "0.694 (+/-0.006) for {'C': 1, 'solver': 'sag'}\n",
      "0.694 (+/-0.006) for {'C': 1, 'solver': 'saga'}\n",
      "0.694 (+/-0.006) for {'C': 10, 'solver': 'sag'}\n",
      "0.694 (+/-0.006) for {'C': 10, 'solver': 'saga'}\n",
      "0.694 (+/-0.006) for {'C': 100, 'solver': 'sag'}\n",
      "0.694 (+/-0.006) for {'C': 100, 'solver': 'saga'}\n",
      "Detailed classification report on Test data:\n",
      "              precision    recall  f1-score   support\n",
      "\n",
      "          -1       0.73      0.70      0.71     21330\n",
      "           1       0.66      0.69      0.67     17867\n",
      "\n",
      "    accuracy                           0.69     39197\n",
      "   macro avg       0.69      0.69      0.69     39197\n",
      "weighted avg       0.70      0.69      0.69     39197\n",
      "\n"
     ]
    }
   ],
   "source": [
    "import warnings\n",
    "warnings.filterwarnings(\"ignore\")\n",
    "\n",
    "# Logistic regression\n",
    "name = \"Logistic regression\"\n",
    "# Set the parameters by cross-validation\n",
    "score = 'accuracy'\n",
    "tuned_parameters = {\n",
    "    'C': [1, 10, 100],\n",
    "    'solver': ['sag', 'saga']\n",
    "}\n",
    "\n",
    "clf11 = GridSearchCV(\n",
    "    LogisticRegression(), tuned_parameters, scoring=score, cv=3\n",
    ")\n",
    "clf11.fit(twitter_train_X_WF, twitter_train_y)\n",
    "\n",
    "print(\"Best parameters set found on development set:\")\n",
    "print(clf11.best_params_)\n",
    "print(\"Grid scores on development set:\")\n",
    "means = clf11.cv_results_['mean_test_score']\n",
    "stds = clf11.cv_results_['std_test_score']\n",
    "for mean, std, params in zip(means, stds, clf11.cv_results_['params']):\n",
    "    print(\"%0.3f (+/-%0.03f) for %r\"\n",
    "          % (mean, std * 2, params))\n",
    "\n",
    "print(\"Detailed classification report on Test data:\")\n",
    "y_true, y_pred = twitter_test_y, clf11.predict(twitter_test_X_WF)\n",
    "print(classification_report(y_true, y_pred))\n",
    "\n",
    "print('---------------------------')\n",
    "clf12 = GridSearchCV(\n",
    "    LogisticRegression(), tuned_parameters, scoring=score, cv=3\n",
    ")\n",
    "clf12.fit(twitter_train_X_TFIDF, twitter_train_y)\n",
    "\n",
    "print(\"Best parameters set found on development set:\")\n",
    "print(clf12.best_params_)\n",
    "print(\"Grid scores on development set:\")\n",
    "means = clf12.cv_results_['mean_test_score']\n",
    "stds = clf12.cv_results_['std_test_score']\n",
    "for mean, std, params in zip(means, stds, clf12.cv_results_['params']):\n",
    "    print(\"%0.3f (+/-%0.03f) for %r\"\n",
    "          % (mean, std * 2, params))\n",
    "print(\"Detailed classification report on Test data:\")\n",
    "y_true, y_pred = twitter_test_y, clf12.predict(twitter_test_X_TFIDF)\n",
    "print(classification_report(y_true, y_pred))"
   ]
  },
  {
   "cell_type": "markdown",
   "metadata": {},
   "source": [
    "#### 4.2 K-nearest neighbor"
   ]
  },
  {
   "cell_type": "code",
   "execution_count": 13,
   "metadata": {},
   "outputs": [
    {
     "name": "stdout",
     "output_type": "stream",
     "text": [
      "Detailed classification report on Test data:\n",
      "              precision    recall  f1-score   support\n",
      "\n",
      "          -1       0.69      0.62      0.65     21330\n",
      "           1       0.59      0.66      0.63     17867\n",
      "\n",
      "    accuracy                           0.64     39197\n",
      "   macro avg       0.64      0.64      0.64     39197\n",
      "weighted avg       0.64      0.64      0.64     39197\n",
      "\n",
      "-----------------------------------\n",
      "Detailed classification report on Test data:\n",
      "              precision    recall  f1-score   support\n",
      "\n",
      "          -1       0.65      0.71      0.68     21330\n",
      "           1       0.61      0.55      0.58     17867\n",
      "\n",
      "    accuracy                           0.64     39197\n",
      "   macro avg       0.63      0.63      0.63     39197\n",
      "weighted avg       0.63      0.64      0.63     39197\n",
      "\n"
     ]
    }
   ],
   "source": [
    "# K-nearest neighbor, without cross validation\n",
    "name = \"K-nearest neighbor\"\n",
    "\n",
    "clf21 = KNeighborsClassifier(n_neighbors=3, n_jobs=-1)\n",
    "clf21.fit(twitter_train_X_WF, twitter_train_y)\n",
    "\n",
    "print(\"Detailed classification report on Test data:\")\n",
    "y_true, y_pred = twitter_test_y, clf21.predict(twitter_test_X_WF)\n",
    "print(classification_report(y_true, y_pred))\n",
    "\n",
    "print('-----------------------------------')\n",
    "\n",
    "clf22 = KNeighborsClassifier(n_neighbors=3, n_jobs=-1)\n",
    "clf22.fit(twitter_train_X_TFIDF, twitter_train_y)\n",
    "\n",
    "print(\"Detailed classification report on Test data:\")\n",
    "y_true, y_pred = twitter_test_y, clf22.predict(twitter_test_X_TFIDF)\n",
    "print(classification_report(y_true, y_pred))"
   ]
  },
  {
   "cell_type": "markdown",
   "metadata": {},
   "source": [
    "#### 4.3 Naive Bayes"
   ]
  },
  {
   "cell_type": "code",
   "execution_count": 21,
   "metadata": {},
   "outputs": [
    {
     "name": "stdout",
     "output_type": "stream",
     "text": [
      "Detailed classification report on Test data:\n",
      "              precision    recall  f1-score   support\n",
      "\n",
      "          -1       0.77      0.53      0.63     21330\n",
      "           1       0.59      0.82      0.69     17867\n",
      "\n",
      "    accuracy                           0.66     39197\n",
      "   macro avg       0.68      0.67      0.66     39197\n",
      "weighted avg       0.69      0.66      0.66     39197\n",
      "\n",
      "-----------------------------------\n",
      "Detailed classification report on Test data:\n",
      "              precision    recall  f1-score   support\n",
      "\n",
      "          -1       0.77      0.53      0.63     21330\n",
      "           1       0.59      0.82      0.69     17867\n",
      "\n",
      "    accuracy                           0.66     39197\n",
      "   macro avg       0.68      0.67      0.66     39197\n",
      "weighted avg       0.69      0.66      0.66     39197\n",
      "\n"
     ]
    }
   ],
   "source": [
    "# Naive Bayes\n",
    "name = \"Naive Bayes\"\n",
    "\n",
    "clf31 = GaussianNB()\n",
    "clf31.fit(twitter_train_X_WF, twitter_train_y)\n",
    "print(\"Detailed classification report on Test data:\")\n",
    "y_true, y_pred = twitter_test_y, clf31.predict(twitter_test_X_WF)\n",
    "print(classification_report(y_true, y_pred))\n",
    "\n",
    "print('-----------------------------------')\n",
    "\n",
    "clf32 = GaussianNB()\n",
    "clf32.fit(twitter_train_X_TFIDF, twitter_train_y)\n",
    "print(\"Detailed classification report on Test data:\")\n",
    "y_true, y_pred = twitter_test_y, clf32.predict(twitter_test_X_TFIDF)\n",
    "print(classification_report(y_true, y_pred))"
   ]
  },
  {
   "cell_type": "markdown",
   "metadata": {},
   "source": [
    "#### 4.4 Linear SVM"
   ]
  },
  {
   "cell_type": "code",
   "execution_count": 15,
   "metadata": {},
   "outputs": [
    {
     "name": "stdout",
     "output_type": "stream",
     "text": [
      "Best parameters set found on development set:\n",
      "{'C': 10}\n",
      "Grid scores on development set:\n",
      "0.694 (+/-0.005) for {'C': 1}\n",
      "0.694 (+/-0.006) for {'C': 10}\n",
      "0.669 (+/-0.006) for {'C': 100}\n",
      "Detailed classification report on Test data:\n",
      "              precision    recall  f1-score   support\n",
      "\n",
      "          -1       0.73      0.70      0.71     21330\n",
      "           1       0.66      0.69      0.67     17867\n",
      "\n",
      "    accuracy                           0.69     39197\n",
      "   macro avg       0.69      0.69      0.69     39197\n",
      "weighted avg       0.70      0.69      0.69     39197\n",
      "\n",
      "-----------------------------------\n",
      "Best parameters set found on development set:\n",
      "{'C': 1}\n",
      "Grid scores on development set:\n",
      "0.694 (+/-0.004) for {'C': 1}\n",
      "0.648 (+/-0.012) for {'C': 10}\n",
      "0.607 (+/-0.041) for {'C': 100}\n",
      "Detailed classification report on Test data:\n",
      "              precision    recall  f1-score   support\n",
      "\n",
      "          -1       0.73      0.70      0.71     21330\n",
      "           1       0.66      0.69      0.67     17867\n",
      "\n",
      "    accuracy                           0.69     39197\n",
      "   macro avg       0.69      0.69      0.69     39197\n",
      "weighted avg       0.70      0.69      0.69     39197\n",
      "\n"
     ]
    }
   ],
   "source": [
    "# Linear SVM\n",
    "name = \"Linear SVM\"\n",
    "# Set the parameters by cross-validation\n",
    "score = 'accuracy'\n",
    "tuned_parameters = {\n",
    "    # 'penalty': ['l1', 'l2'],\n",
    "    'C': [1, 10]\n",
    "}\n",
    "\n",
    "clf41 = GridSearchCV(\n",
    "    LinearSVC(), tuned_parameters, scoring=score, cv=3, n_jobs=-1\n",
    ")\n",
    "clf41.fit(twitter_train_X_WF, twitter_train_y)\n",
    "\n",
    "print(\"Best parameters set found on development set:\")\n",
    "print(clf41.best_params_)\n",
    "print(\"Grid scores on development set:\")\n",
    "means = clf41.cv_results_['mean_test_score']\n",
    "stds = clf41.cv_results_['std_test_score']\n",
    "for mean, std, params in zip(means, stds, clf41.cv_results_['params']):\n",
    "    print(\"%0.3f (+/-%0.03f) for %r\"\n",
    "          % (mean, std * 2, params))\n",
    "print(\"Detailed classification report on Test data:\")\n",
    "y_true, y_pred = twitter_test_y, clf41.predict(twitter_test_X_WF)\n",
    "print(classification_report(y_true, y_pred))\n",
    "\n",
    "print('-----------------------------------')\n",
    "\n",
    "clf42 = GridSearchCV(\n",
    "    LinearSVC(), tuned_parameters, scoring=score, cv=3, n_jobs=-1\n",
    ")\n",
    "clf42.fit(twitter_train_X_TFIDF, twitter_train_y)\n",
    "\n",
    "print(\"Best parameters set found on development set:\")\n",
    "print(clf42.best_params_)\n",
    "print(\"Grid scores on development set:\")\n",
    "means = clf42.cv_results_['mean_test_score']\n",
    "stds = clf42.cv_results_['std_test_score']\n",
    "for mean, std, params in zip(means, stds, clf42.cv_results_['params']):\n",
    "    print(\"%0.3f (+/-%0.03f) for %r\"\n",
    "          % (mean, std * 2, params))\n",
    "print(\"Detailed classification report on Test data:\")\n",
    "y_true, y_pred = twitter_test_y, clf42.predict(twitter_test_X_TFIDF)\n",
    "print(classification_report(y_true, y_pred))"
   ]
  },
  {
   "cell_type": "markdown",
   "metadata": {},
   "source": [
    "#### 4.5 Decision Tree"
   ]
  },
  {
   "cell_type": "code",
   "execution_count": 16,
   "metadata": {},
   "outputs": [
    {
     "name": "stdout",
     "output_type": "stream",
     "text": [
      "Best parameters set found on development set:\n",
      "{'max_depth': 4}\n",
      "Grid scores on development set:\n",
      "0.570 (+/-0.001) for {'max_depth': 2}\n",
      "0.570 (+/-0.002) for {'max_depth': 3}\n",
      "0.571 (+/-0.001) for {'max_depth': 4}\n",
      "Detailed classification report on Test data:\n",
      "              precision    recall  f1-score   support\n",
      "\n",
      "          -1       0.56      0.99      0.71     21330\n",
      "           1       0.83      0.06      0.12     17867\n",
      "\n",
      "    accuracy                           0.57     39197\n",
      "   macro avg       0.69      0.53      0.41     39197\n",
      "weighted avg       0.68      0.57      0.44     39197\n",
      "\n",
      "-----------------------------------\n",
      "Best parameters set found on development set:\n",
      "{'max_depth': 4}\n",
      "Grid scores on development set:\n",
      "0.570 (+/-0.001) for {'max_depth': 2}\n",
      "0.570 (+/-0.002) for {'max_depth': 3}\n",
      "0.571 (+/-0.001) for {'max_depth': 4}\n",
      "Detailed classification report on Test data:\n",
      "              precision    recall  f1-score   support\n",
      "\n",
      "          -1       0.56      0.99      0.71     21330\n",
      "           1       0.83      0.06      0.12     17867\n",
      "\n",
      "    accuracy                           0.57     39197\n",
      "   macro avg       0.69      0.53      0.41     39197\n",
      "weighted avg       0.68      0.57      0.44     39197\n",
      "\n"
     ]
    }
   ],
   "source": [
    "# Decision Tree\n",
    "name = \"Decision Tree\"\n",
    "# Set the parameters by cross-validation\n",
    "score = 'accuracy'\n",
    "tuned_parameters = {\n",
    "    'max_depth': [2,3,4]\n",
    "}\n",
    "\n",
    "clf51 = GridSearchCV(\n",
    "    DecisionTreeClassifier(), tuned_parameters, scoring=score, cv=3\n",
    ")\n",
    "clf51.fit(twitter_train_X_WF, twitter_train_y)\n",
    "\n",
    "print(\"Best parameters set found on development set:\")\n",
    "print(clf51.best_params_)\n",
    "print(\"Grid scores on development set:\")\n",
    "means = clf51.cv_results_['mean_test_score']\n",
    "stds = clf51.cv_results_['std_test_score']\n",
    "for mean, std, params in zip(means, stds, clf51.cv_results_['params']):\n",
    "    print(\"%0.3f (+/-%0.03f) for %r\"\n",
    "          % (mean, std * 2, params))\n",
    "print(\"Detailed classification report on Test data:\")\n",
    "y_true, y_pred = twitter_test_y, clf51.predict(twitter_test_X_WF)\n",
    "print(classification_report(y_true, y_pred))\n",
    "\n",
    "print('-----------------------------------')\n",
    "\n",
    "clf52 = GridSearchCV(\n",
    "    DecisionTreeClassifier(), tuned_parameters, scoring=score, cv=3\n",
    ")\n",
    "clf52.fit(twitter_train_X_TFIDF, twitter_train_y)\n",
    "\n",
    "print(\"Best parameters set found on development set:\")\n",
    "print(clf52.best_params_)\n",
    "print(\"Grid scores on development set:\")\n",
    "means = clf52.cv_results_['mean_test_score']\n",
    "stds = clf52.cv_results_['std_test_score']\n",
    "for mean, std, params in zip(means, stds, clf52.cv_results_['params']):\n",
    "    print(\"%0.3f (+/-%0.03f) for %r\"\n",
    "          % (mean, std * 2, params))\n",
    "print(\"Detailed classification report on Test data:\")\n",
    "y_true, y_pred = twitter_test_y, clf52.predict(twitter_test_X_TFIDF)\n",
    "print(classification_report(y_true, y_pred))"
   ]
  },
  {
   "cell_type": "markdown",
   "metadata": {},
   "source": [
    "#### 4.6 Random Forest"
   ]
  },
  {
   "cell_type": "code",
   "execution_count": 17,
   "metadata": {},
   "outputs": [
    {
     "name": "stdout",
     "output_type": "stream",
     "text": [
      "Best parameters set found on development set:\n",
      "{'max_depth': 4}\n",
      "Grid scores on development set:\n",
      "0.568 (+/-0.011) for {'max_depth': 2}\n",
      "0.578 (+/-0.025) for {'max_depth': 3}\n",
      "0.585 (+/-0.014) for {'max_depth': 4}\n",
      "Detailed classification report on Test data:\n",
      "              precision    recall  f1-score   support\n",
      "\n",
      "          -1       0.57      0.97      0.72     21330\n",
      "           1       0.77      0.13      0.22     17867\n",
      "\n",
      "    accuracy                           0.59     39197\n",
      "   macro avg       0.67      0.55      0.47     39197\n",
      "weighted avg       0.66      0.59      0.49     39197\n",
      "\n",
      "Best parameters set found on development set:\n",
      "{'max_depth': 4}\n",
      "Grid scores on development set:\n",
      "0.573 (+/-0.030) for {'max_depth': 2}\n",
      "0.580 (+/-0.011) for {'max_depth': 3}\n",
      "0.584 (+/-0.019) for {'max_depth': 4}\n",
      "Detailed classification report on Test data:\n",
      "              precision    recall  f1-score   support\n",
      "\n",
      "          -1       0.57      0.96      0.72     21330\n",
      "           1       0.75      0.15      0.26     17867\n",
      "\n",
      "    accuracy                           0.59     39197\n",
      "   macro avg       0.66      0.56      0.49     39197\n",
      "weighted avg       0.65      0.59      0.51     39197\n",
      "\n"
     ]
    }
   ],
   "source": [
    "# Random Forest\n",
    "name = \"Random Forest\"\n",
    "# Set the parameters by cross-validation\n",
    "score = 'accuracy'\n",
    "tuned_parameters = {\n",
    "    'max_depth': [2,3,4]\n",
    "}\n",
    "\n",
    "clf61 = GridSearchCV(\n",
    "    RandomForestClassifier(), tuned_parameters, scoring=score, cv=3\n",
    ")\n",
    "clf61.fit(twitter_train_X_WF, twitter_train_y)\n",
    "\n",
    "print(\"Best parameters set found on development set:\")\n",
    "print(clf61.best_params_)\n",
    "print(\"Grid scores on development set:\")\n",
    "means = clf61.cv_results_['mean_test_score']\n",
    "stds = clf61.cv_results_['std_test_score']\n",
    "for mean, std, params in zip(means, stds, clf61.cv_results_['params']):\n",
    "    print(\"%0.3f (+/-%0.03f) for %r\"\n",
    "          % (mean, std * 2, params))\n",
    "print(\"Detailed classification report on Test data:\")\n",
    "y_true, y_pred = twitter_test_y, clf61.predict(twitter_test_X_WF)\n",
    "print(classification_report(y_true, y_pred))\n",
    "\n",
    "clf62 = GridSearchCV(\n",
    "    RandomForestClassifier(), tuned_parameters, scoring=score, cv=3\n",
    ")\n",
    "clf62.fit(twitter_train_X_TFIDF, twitter_train_y)\n",
    "\n",
    "print(\"Best parameters set found on development set:\")\n",
    "print(clf62.best_params_)\n",
    "print(\"Grid scores on development set:\")\n",
    "means = clf62.cv_results_['mean_test_score']\n",
    "stds = clf62.cv_results_['std_test_score']\n",
    "for mean, std, params in zip(means, stds, clf62.cv_results_['params']):\n",
    "    print(\"%0.3f (+/-%0.03f) for %r\"\n",
    "          % (mean, std * 2, params))\n",
    "print(\"Detailed classification report on Test data:\")\n",
    "y_true, y_pred = twitter_test_y, clf62.predict(twitter_test_X_TFIDF)\n",
    "print(classification_report(y_true, y_pred))"
   ]
  },
  {
   "cell_type": "markdown",
   "metadata": {},
   "source": [
    "#### 4.7 Adaboost"
   ]
  },
  {
   "cell_type": "code",
   "execution_count": 18,
   "metadata": {},
   "outputs": [
    {
     "name": "stdout",
     "output_type": "stream",
     "text": [
      "Best parameters set found on development set:\n",
      "{'n_estimators': 20}\n",
      "Grid scores on development set:\n",
      "0.604 (+/-0.007) for {'n_estimators': 10}\n",
      "0.610 (+/-0.003) for {'n_estimators': 15}\n",
      "0.621 (+/-0.010) for {'n_estimators': 20}\n",
      "Detailed classification report on Test data:\n",
      "              precision    recall  f1-score   support\n",
      "\n",
      "          -1       0.80      0.42      0.55     21330\n",
      "           1       0.56      0.88      0.68     17867\n",
      "\n",
      "    accuracy                           0.63     39197\n",
      "   macro avg       0.68      0.65      0.62     39197\n",
      "weighted avg       0.69      0.63      0.61     39197\n",
      "\n",
      "-----------------------------------\n",
      "Best parameters set found on development set:\n",
      "{'n_estimators': 20}\n",
      "Grid scores on development set:\n",
      "0.604 (+/-0.007) for {'n_estimators': 10}\n",
      "0.610 (+/-0.003) for {'n_estimators': 15}\n",
      "0.621 (+/-0.010) for {'n_estimators': 20}\n",
      "Detailed classification report on Test data:\n",
      "              precision    recall  f1-score   support\n",
      "\n",
      "          -1       0.80      0.42      0.55     21330\n",
      "           1       0.56      0.88      0.68     17867\n",
      "\n",
      "    accuracy                           0.63     39197\n",
      "   macro avg       0.68      0.65      0.62     39197\n",
      "weighted avg       0.69      0.63      0.61     39197\n",
      "\n"
     ]
    }
   ],
   "source": [
    "# Adaboost\n",
    "name = \"Adaboost\"\n",
    "# Set the parameters by cross-validation\n",
    "score = 'accuracy'\n",
    "tuned_parameters = {\n",
    "    'n_estimators': [10, 15, 20]\n",
    "}\n",
    "\n",
    "clf71 = GridSearchCV(\n",
    "    AdaBoostClassifier(), tuned_parameters, scoring=score, cv=3\n",
    ")\n",
    "clf71.fit(twitter_train_X_WF, twitter_train_y)\n",
    "\n",
    "print(\"Best parameters set found on development set:\")\n",
    "print(clf71.best_params_)\n",
    "print(\"Grid scores on development set:\")\n",
    "means = clf71.cv_results_['mean_test_score']\n",
    "stds = clf71.cv_results_['std_test_score']\n",
    "for mean, std, params in zip(means, stds, clf71.cv_results_['params']):\n",
    "    print(\"%0.3f (+/-%0.03f) for %r\"\n",
    "          % (mean, std * 2, params))\n",
    "print(\"Detailed classification report on Test data:\")\n",
    "y_true, y_pred = twitter_test_y, clf71.predict(twitter_test_X_WF)\n",
    "print(classification_report(y_true, y_pred))\n",
    "\n",
    "print('-----------------------------------')\n",
    "\n",
    "clf72 = GridSearchCV(\n",
    "    AdaBoostClassifier(), tuned_parameters, scoring=score, cv=3\n",
    ")\n",
    "clf72.fit(twitter_train_X_TFIDF, twitter_train_y)\n",
    "\n",
    "print(\"Best parameters set found on development set:\")\n",
    "print(clf72.best_params_)\n",
    "print(\"Grid scores on development set:\")\n",
    "means = clf72.cv_results_['mean_test_score']\n",
    "stds = clf72.cv_results_['std_test_score']\n",
    "for mean, std, params in zip(means, stds, clf72.cv_results_['params']):\n",
    "    print(\"%0.3f (+/-%0.03f) for %r\"\n",
    "          % (mean, std * 2, params))\n",
    "print(\"Detailed classification report on Test data:\")\n",
    "y_true, y_pred = twitter_test_y, clf72.predict(twitter_test_X_TFIDF)\n",
    "print(classification_report(y_true, y_pred))"
   ]
  },
  {
   "cell_type": "markdown",
   "metadata": {},
   "source": [
    "#### 4.8 Evaluate the Best Model on the 2019 Canadian elections data\n",
    "Based on the classification report, **Linear SVM** with C=10, WF feature has the best performance of accuracy. Then we are going to evaluate the model(clf41) on the 2019 Canadian elections data. As is shown, our Linear SVM model could reach **0.54** of accuray, which is higher than the random guess."
   ]
  },
  {
   "cell_type": "code",
   "execution_count": 24,
   "metadata": {},
   "outputs": [
    {
     "name": "stdout",
     "output_type": "stream",
     "text": [
      "              precision    recall  f1-score   support\n",
      "\n",
      "          -1       0.52      0.48      0.50      1006\n",
      "           1       0.56      0.60      0.58      1127\n",
      "\n",
      "    accuracy                           0.54      2133\n",
      "   macro avg       0.54      0.54      0.54      2133\n",
      "weighted avg       0.54      0.54      0.54      2133\n",
      "\n"
     ]
    }
   ],
   "source": [
    "election_X, election_y = election_df['text'].values, election_df['sentiment'].values\n",
    "\n",
    "election_X_WF = vectorizer_wf.transform(election_X).toarray()\n",
    "y_true, y_pred = election_y, clf41.predict(election_X_WF)\n",
    "print(classification_report(y_true, y_pred))"
   ]
  },
  {
   "cell_type": "markdown",
   "metadata": {},
   "source": [
    "#### 4.8 Evaluate on the three parties\n",
    "The chart below indicates that the NDP tend to have the highest accuracy.\n",
    "The parties in descending order of predicted mean sentiments are **Liberty > Consecutive > NDP**.\n",
    "The votes of 2019 Canadian Election are **Liberty > Consecutive > NDP**, which are the same as our predicted sentiments. Therefore, We could use our training model on twitter to predict the sentiment of the parties and **NLP analytics based on tweets is useful for political parties during election campaigns**."
   ]
  },
  {
   "cell_type": "code",
   "execution_count": 46,
   "metadata": {},
   "outputs": [
    {
     "name": "stdout",
     "output_type": "stream",
     "text": [
      "Conservative\n",
      "              precision    recall  f1-score   support\n",
      "\n",
      "          -1       0.72      0.40      0.51       110\n",
      "           1       0.31      0.63      0.41        46\n",
      "\n",
      "    accuracy                           0.47       156\n",
      "   macro avg       0.51      0.52      0.46       156\n",
      "weighted avg       0.60      0.47      0.48       156\n",
      "\n",
      "Liberal\n",
      "              precision    recall  f1-score   support\n",
      "\n",
      "          -1       0.44      0.47      0.45        60\n",
      "           1       0.57      0.54      0.56        79\n",
      "\n",
      "    accuracy                           0.51       139\n",
      "   macro avg       0.51      0.51      0.51       139\n",
      "weighted avg       0.51      0.51      0.51       139\n",
      "\n",
      "NDP\n",
      "              precision    recall  f1-score   support\n",
      "\n",
      "          -1       0.35      0.50      0.41        38\n",
      "           1       0.74      0.61      0.67        89\n",
      "\n",
      "    accuracy                           0.57       127\n",
      "   macro avg       0.55      0.55      0.54       127\n",
      "weighted avg       0.62      0.57      0.59       127\n",
      "\n"
     ]
    },
    {
     "data": {
      "image/png": "[encoded data removed]",
      "text/plain": [
       "<Figure size 1440x360 with 2 Axes>"
      ]
     },
     "metadata": {},
     "output_type": "display_data"
    }
   ],
   "source": [
    "report = {}\n",
    "for party in election_df['party'].unique():\n",
    "    if party == \"None\": continue\n",
    "    print(party)\n",
    "    df = election_df[election_df['party']==party]\n",
    "    election_X, election_y = df['text'].values, df['sentiment'].values\n",
    "    election_X = vectorizer_wf.transform(election_X).toarray()\n",
    "    y_true, y_pred = election_y, clf41.predict(election_X)\n",
    "    report[party] = classification_report(y_true, y_pred, output_dict=True)\n",
    "    report[party]['mean-pred'] = np.mean(y_pred) + 1\n",
    "    report[party]['mean-true'] = np.mean(y_true) + 1\n",
    "    print(classification_report(y_true, y_pred))\n",
    "    \n",
    "parties = list(report.keys())\n",
    "\n",
    "# visualize\n",
    "fig, axes = plt.subplots(1, 2, figsize=(20,5))\n",
    "accs = [report[p]['accuracy'] for p in parties]\n",
    "x = range(len(parties))\n",
    "axes[0].set_title(\"Accuracies of the three parties\")\n",
    "axes[0].bar(x, accs)\n",
    "axes[0].set_xticks(x)\n",
    "axes[0].set_xticklabels(parties)\n",
    "axes[0].set_ylim(0, 0.8)\n",
    "for i, v in enumerate(accs):\n",
    "    axes[0].text(i, v+0.01, '%.2f'%(v))\n",
    "\n",
    "x = np.arange(len(parties))\n",
    "width = 0.1\n",
    "axes[1].bar(x - 0.1, [report[p]['mean-pred'] for p in parties], width, label='mean prediction')\n",
    "axes[1].bar(x, [report[p]['mean-true'] for p in parties], width, label='mean true')\n",
    "axes[1].set_title('Mean of predicted and true sentiment')\n",
    "axes[1].set_xticks(x)\n",
    "axes[1].set_xticklabels(['liberty', 'NDP', 'conservative'])\n",
    "axes[1].legend()\n",
    "plt.show()"
   ]
  },
  {
   "cell_type": "markdown",
   "metadata": {},
   "source": [
    "#### 4.9 Predict negative reason for negative 2019 Canadian elections\n",
    "Since **Healthcare and Marijuana** and **Healthcare** are similar and they are all in small proportion. Therefore, we are going to merge them together. For 9 class muti-classifier, **Random Forest** has the best performance, which reaches the accuracy of **55%**"
   ]
  },
  {
   "cell_type": "code",
   "execution_count": 68,
   "metadata": {},
   "outputs": [
    {
     "name": "stdout",
     "output_type": "stream",
     "text": [
      "['Women Reproductive right and Racism' 'Economy' 'Others' 'Scandal'\n",
      " 'Tell lies' 'Privilege' 'Climate Problem' 'Healthcare' 'Separation'\n",
      " 'Healthcare and Marijuana']\n",
      "(1006, 5)\n"
     ]
    }
   ],
   "source": [
    "negative_election_df = election_df[election_df['sentiment']==-1]\n",
    "negative_election_df = negative_election_df[negative_election_df['negative_reason'].notna()]\n",
    "negative_reasons = negative_election_df['negative_reason'].unique()\n",
    "print(negative_reasons)\n",
    "print(negative_election_df.shape)"
   ]
  },
  {
   "cell_type": "code",
   "execution_count": 69,
   "metadata": {},
   "outputs": [
    {
     "name": "stdout",
     "output_type": "stream",
     "text": [
      "['ableg', 'abort', 'alberta', 'also', 'american', 'andi', 'andrew', 'andrewscheer', 'anoth', 'answer', 'ask', 'attack', 'away', 'back', 'bad', 'believ', 'bernier', 'big', 'call', 'campaign', 'canada', 'canadavotes2019', 'canadian', 'candid', 'care', 'cbc', 'cbckatie', 'cdnelxn2019', 'cdnmedia', 'cdnpoli', 'chooseforward', 'climat', 'cndpoli', 'come', 'comment', 'con', 'conserv', 'consult', 'corrupt', 'could', 'countri', 'cpc', 'cpc_hq', 'day', 'debat', 'deserv', 'desper', 'destroy', 'dirti', 'done']\n",
      "(704, 200)\n",
      "(302, 200)\n"
     ]
    }
   ],
   "source": [
    "reasons_dict = { \n",
    "    'Women Reproductive right and Racism': 0,\n",
    "    'Economy': 1,\n",
    "    'Others': 2,\n",
    "    'Scandal': 3, \n",
    "    'Tell lies': 4,\n",
    "    'Privilege': 5,\n",
    "    'Climate Problem': 6,\n",
    "    'Separation': 7,\n",
    "    'Healthcare': 8,\n",
    "    'Healthcare and Marijuana': 8\n",
    "}\n",
    "negative_election_df['negative_reason'] = negative_election_df['negative_reason'].apply(lambda x:reasons_dict[x])\n",
    "\n",
    "columns = ['text', 'negative_reason']\n",
    "negative_election_train, negative_election_test = \\\n",
    "train_test_split(negative_election_df[columns].values, test_size=0.3, random_state=42)\n",
    "\n",
    "negative_election_train_X, negative_election_train_y = negative_election_train[:,[0]].flatten(), negative_election_train[:,[1]].flatten().astype('int')\n",
    "negative_election_test_X, negative_election_test_y = negative_election_test[:, [0]].flatten(), negative_election_test[:,[1]].flatten().astype('int')\n",
    "\n",
    "vectorizer_wf = CountVectorizer(max_features=200)\n",
    "negative_election_train_X = vectorizer_wf.fit_transform(negative_election_train_X).toarray()\n",
    "# print(vectorizer_wf.vocabulary_)\n",
    "print(vectorizer_wf.get_feature_names()[:50])\n",
    "print(negative_election_train_X.shape)\n",
    "\n",
    "negative_election_test_X = vectorizer_wf.transform(negative_election_test_X).toarray()\n",
    "print(negative_election_test_X.shape)"
   ]
  },
  {
   "cell_type": "code",
   "execution_count": 70,
   "metadata": {},
   "outputs": [
    {
     "name": "stdout",
     "output_type": "stream",
     "text": [
      "(704,)\n",
      "(704, 200)\n",
      "              precision    recall  f1-score   support\n",
      "\n",
      "           0       0.25      0.25      0.25         8\n",
      "           1       0.25      0.40      0.31        10\n",
      "           2       0.56      0.63      0.60       119\n",
      "           3       0.53      0.53      0.53        73\n",
      "           4       0.60      0.53      0.56        64\n",
      "           5       0.00      0.00      0.00         3\n",
      "           6       0.70      0.37      0.48        19\n",
      "           7       0.00      0.00      0.00         4\n",
      "           8       0.00      0.00      0.00         2\n",
      "\n",
      "    accuracy                           0.53       302\n",
      "   macro avg       0.32      0.30      0.30       302\n",
      "weighted avg       0.54      0.53      0.53       302\n",
      "\n"
     ]
    }
   ],
   "source": [
    "# Train with Linear SVC\n",
    "print(negative_election_train_y.shape)\n",
    "print(negative_election_train_X.shape)\n",
    "clf1 = LinearSVC()\n",
    "clf1.fit(negative_election_train_X, negative_election_train_y)\n",
    "y_true, y_pred = negative_election_test_y, clf1.predict(negative_election_test_X)\n",
    "print(classification_report(y_true, y_pred))"
   ]
  },
  {
   "cell_type": "code",
   "execution_count": 71,
   "metadata": {},
   "outputs": [
    {
     "name": "stdout",
     "output_type": "stream",
     "text": [
      "              precision    recall  f1-score   support\n",
      "\n",
      "           0       0.05      0.25      0.09         8\n",
      "           1       0.06      0.20      0.09        10\n",
      "           2       0.52      0.29      0.38       119\n",
      "           3       0.50      0.41      0.45        73\n",
      "           4       0.40      0.45      0.42        64\n",
      "           5       0.00      0.00      0.00         3\n",
      "           6       0.12      0.05      0.07        19\n",
      "           7       0.00      0.00      0.00         4\n",
      "           8       0.00      0.00      0.00         2\n",
      "\n",
      "    accuracy                           0.33       302\n",
      "   macro avg       0.18      0.18      0.17       302\n",
      "weighted avg       0.42      0.33      0.36       302\n",
      "\n"
     ]
    }
   ],
   "source": [
    "# Train with Naive Bayes\n",
    "clf2 = GaussianNB()\n",
    "clf2.fit(negative_election_train_X, negative_election_train_y)\n",
    "y_true, y_pred = negative_election_test_y, clf2.predict(negative_election_test_X)\n",
    "print(classification_report(y_true, y_pred))"
   ]
  },
  {
   "cell_type": "code",
   "execution_count": 72,
   "metadata": {},
   "outputs": [
    {
     "name": "stdout",
     "output_type": "stream",
     "text": [
      "              precision    recall  f1-score   support\n",
      "\n",
      "           0       0.00      0.00      0.00         8\n",
      "           1       0.00      0.00      0.00        10\n",
      "           2       0.48      0.92      0.63       119\n",
      "           3       0.73      0.37      0.49        73\n",
      "           4       0.78      0.45      0.57        64\n",
      "           5       0.00      0.00      0.00         3\n",
      "           6       0.00      0.00      0.00        19\n",
      "           7       0.00      0.00      0.00         4\n",
      "           8       0.00      0.00      0.00         2\n",
      "\n",
      "    accuracy                           0.55       302\n",
      "   macro avg       0.22      0.19      0.19       302\n",
      "weighted avg       0.53      0.55      0.49       302\n",
      "\n"
     ]
    }
   ],
   "source": [
    "# Train with Random forest\n",
    "clf3 = RandomForestClassifier(max_depth=4)\n",
    "clf3.fit(negative_election_train_X, negative_election_train_y)\n",
    "y_true, y_pred = negative_election_test_y, clf3.predict(negative_election_test_X)\n",
    "print(classification_report(y_true, y_pred))"
   ]
  },
  {
   "cell_type": "markdown",
   "metadata": {},
   "source": [
    "### 5. Results\n",
    "* Among the three parties, Liberal has the most positive sentiment compared with other parties. While most of the people talk about conservative in the dataset.\n",
    "* The reasons why the second model fail to predict the correct negative reasons are:\n",
    "    * The distributions of each negative reason is different. The higher proportion of data have, the better performance we could reach.\n",
    "    * Some negative reasons are similar.\n",
    "    * The training set is not enough, only 700, could result in overfitting.\n",
    "* Suggestions to improve the first model:\n",
    "    * Use deep learning model and word-embedding to predict the sentiment analysis\n",
    "    * Accumulate more features of twitter, including usernames, date, etc.\n",
    "* Suggestions to improve the second model:\n",
    "    * Add more data.\n",
    "    * Use deep leanring model and word-embedding to predict the sentiment analysis"
   ]
  },
  {
   "cell_type": "markdown",
   "metadata": {},
   "source": [
    "### Bonus: LSTM with Word Embedding\n",
    "We are going to train the LSTM word embedding. The dataset we chose is the 2019 Canadian Election Datasets."
   ]
  },
  {
   "cell_type": "code",
   "execution_count": 106,
   "metadata": {},
   "outputs": [
    {
     "name": "stdout",
     "output_type": "stream",
     "text": [
      "(704,) (704,)\n",
      "(302,) (302,)\n"
     ]
    }
   ],
   "source": [
    "columns = ['text', 'negative_reason']\n",
    "negative_election_train, negative_election_test = \\\n",
    "train_test_split(negative_election_df[columns].values, test_size=0.3, random_state=42)\n",
    "\n",
    "negative_election_train_X, negative_election_train_y = negative_election_train[:,[0]].flatten(), negative_election_train[:,[1]].flatten().astype('int')\n",
    "negative_election_test_X, negative_election_test_y = negative_election_test[:, [0]].flatten(), negative_election_test[:,[1]].flatten().astype('int')\n",
    "print(negative_election_train_X.shape, negative_election_train_y.shape)\n",
    "print(negative_election_test_X.shape, negative_election_test_y.shape)"
   ]
  },
  {
   "cell_type": "code",
   "execution_count": 107,
   "metadata": {},
   "outputs": [],
   "source": [
    "from keras.models import Sequential\n",
    "from keras.layers import Dense\n",
    "from keras.layers import LSTM\n",
    "from keras.layers.embeddings import Embedding\n",
    "from keras.preprocessing import sequence\n",
    "# fix random seed for reproducibility\n",
    "np.random.seed(7)"
   ]
  },
  {
   "cell_type": "code",
   "execution_count": 111,
   "metadata": {},
   "outputs": [],
   "source": [
    "from keras.utils import to_categorical\n",
    "\n",
    "corpus = ' '.join(negative_election_train_X)\n",
    "vab = list(set(corpus))\n",
    "vab_rev = collections.defaultdict(int)\n",
    "for ind, word in enumerate(vab):\n",
    "    vab_rev[word] = ind+1\n",
    "X_train, X_test = [], []\n",
    "for line in negative_election_train_X:\n",
    "    X_train.append(list(map(lambda x:vob_rev[x], [word for word in line.split(' ')])))\n",
    "for line in negative_election_test_X:\n",
    "    X_test.append(list(map(lambda x:vob_rev[x], [word for word in line.split(' ')])))\n",
    "max_review_length = 500\n",
    "X_train = sequence.pad_sequences(X_train, maxlen=max_review_length)\n",
    "X_test = sequence.pad_sequences(X_test, maxlen=max_review_length)\n",
    "\n",
    "y_train, y_test = negative_election_train_y, negative_election_test_y\n",
    "# y_train, y_test = to_categorical(negative_election_train_y, num_classes=9), to_categorical(negative_election_test_y, num_classes=9)"
   ]
  },
  {
   "cell_type": "code",
   "execution_count": 113,
   "metadata": {},
   "outputs": [
    {
     "name": "stdout",
     "output_type": "stream",
     "text": [
      "Model: \"sequential_17\"\n",
      "_________________________________________________________________\n",
      "Layer (type)                 Output Shape              Param #   \n",
      "=================================================================\n",
      "embedding_16 (Embedding)     (None, 500, 32)           3200      \n",
      "_________________________________________________________________\n",
      "lstm_16 (LSTM)               (None, 100)               53200     \n",
      "_________________________________________________________________\n",
      "dense_16 (Dense)             (None, 1)                 101       \n",
      "=================================================================\n",
      "Total params: 56,501\n",
      "Trainable params: 56,501\n",
      "Non-trainable params: 0\n",
      "_________________________________________________________________\n",
      "None\n",
      "Train on 704 samples, validate on 302 samples\n",
      "Epoch 1/20\n",
      "704/704 [==============================] - 9s 12ms/step - loss: -11.5798 - accuracy: 0.0582 - val_loss: -25.5993 - val_accuracy: 0.0331\n",
      "Epoch 2/20\n",
      "704/704 [==============================] - 8s 12ms/step - loss: -28.7821 - accuracy: 0.0582 - val_loss: -37.1147 - val_accuracy: 0.0331\n",
      "Epoch 3/20\n",
      "704/704 [==============================] - 8s 12ms/step - loss: -38.7746 - accuracy: 0.0582 - val_loss: -47.4873 - val_accuracy: 0.0331\n",
      "Epoch 4/20\n",
      "704/704 [==============================] - 8s 12ms/step - loss: -47.9633 - accuracy: 0.0582 - val_loss: -57.0953 - val_accuracy: 0.0331\n",
      "Epoch 5/20\n",
      "704/704 [==============================] - 9s 12ms/step - loss: -56.6574 - accuracy: 0.0582 - val_loss: -66.3437 - val_accuracy: 0.0331\n",
      "Epoch 6/20\n",
      "704/704 [==============================] - 9s 12ms/step - loss: -65.0203 - accuracy: 0.0582 - val_loss: -75.4826 - val_accuracy: 0.0331\n",
      "Epoch 7/20\n",
      "704/704 [==============================] - 8s 12ms/step - loss: -73.3165 - accuracy: 0.0582 - val_loss: -84.3006 - val_accuracy: 0.0331\n",
      "Epoch 8/20\n",
      "704/704 [==============================] - 9s 12ms/step - loss: -81.4575 - accuracy: 0.0582 - val_loss: -93.1182 - val_accuracy: 0.0331\n",
      "Epoch 9/20\n",
      "704/704 [==============================] - 9s 13ms/step - loss: -89.4744 - accuracy: 0.0582 - val_loss: -102.0547 - val_accuracy: 0.0331\n",
      "Epoch 10/20\n",
      "704/704 [==============================] - 9s 13ms/step - loss: -97.5413 - accuracy: 0.0582 - val_loss: -110.6921 - val_accuracy: 0.0331\n",
      "Epoch 11/20\n",
      "704/704 [==============================] - 9s 13ms/step - loss: -105.4888 - accuracy: 0.0582 - val_loss: -119.3843 - val_accuracy: 0.0331\n",
      "Epoch 12/20\n",
      "704/704 [==============================] - 11s 15ms/step - loss: -113.4367 - accuracy: 0.0582 - val_loss: -128.0129 - val_accuracy: 0.0331\n",
      "Epoch 13/20\n",
      "704/704 [==============================] - 9s 13ms/step - loss: -121.3422 - accuracy: 0.0582 - val_loss: -136.6426 - val_accuracy: 0.0331\n",
      "Epoch 14/20\n",
      "704/704 [==============================] - 9s 12ms/step - loss: -129.2576 - accuracy: 0.0582 - val_loss: -145.1561 - val_accuracy: 0.0331\n",
      "Epoch 15/20\n",
      "704/704 [==============================] - 9s 12ms/step - loss: -137.1039 - accuracy: 0.0582 - val_loss: -153.7984 - val_accuracy: 0.0331\n",
      "Epoch 16/20\n",
      "704/704 [==============================] - 8s 12ms/step - loss: -144.9774 - accuracy: 0.0582 - val_loss: -162.3628 - val_accuracy: 0.0331\n",
      "Epoch 17/20\n",
      "704/704 [==============================] - 9s 12ms/step - loss: -152.8331 - accuracy: 0.0582 - val_loss: -170.8856 - val_accuracy: 0.0331\n",
      "Epoch 18/20\n",
      "704/704 [==============================] - 8s 12ms/step - loss: -160.6660 - accuracy: 0.0582 - val_loss: -179.4206 - val_accuracy: 0.0331\n",
      "Epoch 19/20\n",
      "704/704 [==============================] - 9s 12ms/step - loss: -168.5116 - accuracy: 0.0582 - val_loss: -187.8894 - val_accuracy: 0.0331\n",
      "Epoch 20/20\n",
      "704/704 [==============================] - 8s 12ms/step - loss: -176.3279 - accuracy: 0.0582 - val_loss: -196.3641 - val_accuracy: 0.0331\n"
     ]
    },
    {
     "data": {
      "text/plain": [
       "<keras.callbacks.callbacks.History at 0x1a76347850>"
      ]
     },
     "execution_count": 113,
     "metadata": {},
     "output_type": "execute_result"
    }
   ],
   "source": [
    "# create the model\n",
    "embedding_vecor_length = 32\n",
    "model = Sequential()\n",
    "model.add(Embedding(100, embedding_vecor_length, input_length=max_review_length))\n",
    "model.add(LSTM(100))\n",
    "model.add(Dense(1, activation='sigmoid'))\n",
    "model.compile(loss='binary_crossentropy', optimizer='adam', metrics=['accuracy'])\n",
    "print(model.summary())\n",
    "model.fit(X_train, y_train, validation_data=(X_test, y_test), epochs=20, batch_size=16)"
   ]
  },
  {
   "cell_type": "code",
   "execution_count": null,
   "metadata": {},
   "outputs": [],
   "source": []
  }
 ],
 "metadata": {
  "kernelspec": {
   "display_name": "nlp",
   "language": "python",
   "name": "nlp"
  },
  "language_info": {
   "codemirror_mode": {
    "name": "ipython",
    "version": 3
   },
   "file_extension": ".py",
   "mimetype": "text/x-python",
   "name": "python",
   "nbconvert_exporter": "python",
   "pygments_lexer": "ipython3",
   "version": "3.7.4"
  }
 },
 "nbformat": 4,
 "nbformat_minor": 2
}
